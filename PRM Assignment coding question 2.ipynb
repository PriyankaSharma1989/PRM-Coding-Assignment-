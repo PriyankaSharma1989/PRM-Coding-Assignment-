{
 "cells": [
  {
   "cell_type": "code",
   "execution_count": 17,
   "id": "271ad7d6",
   "metadata": {},
   "outputs": [
    {
     "ename": "IndentationError",
     "evalue": "unindent does not match any outer indentation level (<tokenize>, line 7)",
     "output_type": "error",
     "traceback": [
      "\u001b[1;36m  File \u001b[1;32m<tokenize>:7\u001b[1;36m\u001b[0m\n\u001b[1;33m    def validate_traingle(self):\u001b[0m\n\u001b[1;37m    ^\u001b[0m\n\u001b[1;31mIndentationError\u001b[0m\u001b[1;31m:\u001b[0m unindent does not match any outer indentation level\n"
     ]
    }
   ],
   "source": [
    "class Traingle:\n",
    "     def __init__(self,a,b,c):\n",
    "            self.a=a\n",
    "            self.b=b\n",
    "            self.c=c\n",
    "            \n",
    "    def validate_traingle(self):\n",
    "            if (a + b >= c) or (a + c >= b) or (b + c >= a) :\n",
    "                return valid\n",
    "             else:\n",
    "                return invalid\n",
    "class Rectangle:\n",
    "    def __init__(self,p,q,r,s):\n",
    "        self.p=p\n",
    "        self.q=q\n",
    "        self.r=r\n",
    "        self.s=s\n",
    "    \n",
    "    def validate_rectangle(self):\n",
    "            if(p==q and r==s) or (p==r and q==s) or (p==s and q==r):\n",
    "                return valid\n",
    "            else:\n",
    "                return invalid\n",
    "        \n",
    "x=Traingle()\n",
    "y=Rectangle()\n",
    "print(x.validate_traingle(3,4,5))\n",
    "print(y.validate_rectangle(2,4,2,4))\n",
    "\n"
   ]
  },
  {
   "cell_type": "code",
   "execution_count": null,
   "id": "6618f7f0",
   "metadata": {},
   "outputs": [],
   "source": []
  }
 ],
 "metadata": {
  "kernelspec": {
   "display_name": "Python 3 (ipykernel)",
   "language": "python",
   "name": "python3"
  },
  "language_info": {
   "codemirror_mode": {
    "name": "ipython",
    "version": 3
   },
   "file_extension": ".py",
   "mimetype": "text/x-python",
   "name": "python",
   "nbconvert_exporter": "python",
   "pygments_lexer": "ipython3",
   "version": "3.9.12"
  }
 },
 "nbformat": 4,
 "nbformat_minor": 5
}
